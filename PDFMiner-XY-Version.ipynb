{
 "cells": [
  {
   "cell_type": "code",
   "execution_count": 1,
   "id": "959134f9",
   "metadata": {},
   "outputs": [],
   "source": [
    "from pdfminer.layout import LAParams, LTTextBox\n",
    "from pdfminer.pdfpage import PDFPage\n",
    "from pdfminer.pdfinterp import PDFResourceManager\n",
    "from pdfminer.pdfinterp import PDFPageInterpreter\n",
    "from pdfminer.converter import PDFPageAggregator\n",
    "from pdfminer.layout import LTTextBoxHorizontal\n",
    "from io import StringIO\n",
    "import re\n",
    "import pandas as pd"
   ]
  },
  {
   "cell_type": "markdown",
   "id": "f8c28c16",
   "metadata": {},
   "source": [
    "## PDF converter function definition"
   ]
  },
  {
   "cell_type": "code",
   "execution_count": 2,
   "id": "9d486dae",
   "metadata": {},
   "outputs": [],
   "source": [
    "from pdfminer.pdfinterp import PDFResourceManager, PDFPageInterpreter\n",
    "from pdfminer.pdfpage import PDFPage\n",
    "from pdfminer.layout import LAParams, LTTextBox, LTTextLine\n",
    "from pdfminer.converter import PDFPageAggregator\n",
    "\n",
    "# The Actual PDF\n",
    "PDF = 'Test3.pdf'\n",
    "# Output Excel File\n",
    "exceloutput = ''\n",
    "\n",
    "# PDF reader setup\n",
    "fp = open(PDF, 'rb')\n",
    "rsrcmgr = PDFResourceManager()\n",
    "laparams = LAParams()\n",
    "setattr(laparams, 'all_texts', True)\n",
    "device = PDFPageAggregator(rsrcmgr, laparams=laparams)\n",
    "interpreter = PDFPageInterpreter(rsrcmgr, device)\n",
    "pages = PDFPage.get_pages(fp)\n",
    "\n",
    "combinedList = []\n",
    "\n",
    "for i, page in enumerate(pages, start=1):\n",
    "    interpreter.process_page(page)\n",
    "    layout = device.get_result()\n",
    "    for element in layout:\n",
    "        if isinstance(element, LTTextBoxHorizontal):\n",
    "            x, y, text = element.bbox[0], element.bbox[3], element.get_text()\n",
    "            x = round(x, 2)\n",
    "            y = round(y, 2)\n",
    "            text = text.replace('\\n', ' ')\n",
    "            combinedList.append((i, text, x, y))\n",
    "\n",
    "# Print the combined list containing page number, text, and coordinates\n",
    "for entry in combinedList:\n",
    "    page_num, text, x, y = entry\n",
    "    print(f'Page: {page_num}')\n",
    "    print(f'Text: {text}')\n",
    "    print(f'Coordinates: {x}')\n",
    "    print(f'Coordinates: {y}')\n"
   ]
  },
  {
   "cell_type": "code",
   "execution_count": 3,
   "id": "84cdff50",
   "metadata": {},
   "outputs": [],
   "source": [
    "Excel = pd.DataFrame(combinedList)\n",
    "pd.DataFrame.to_excel(Excel, r\"C:\\Users\\Ben\\Desktop\\PDF_Testing\\PDFtoExcel3.xlsx\")"
   ]
  },
  {
   "cell_type": "code",
   "execution_count": 4,
   "id": "d742630e",
   "metadata": {},
   "outputs": [],
   "source": [
    "# workingPage = combinedList[403:432]"
   ]
  },
  {
   "cell_type": "code",
   "execution_count": 5,
   "id": "6675d467",
   "metadata": {},
   "outputs": [],
   "source": [
    "# #Grouping Header with Paragraphs\n",
    "# threshold = 100\n",
    "# i = 0\n",
    "# j = 0\n",
    "# for i in range(0,len(workingPage)-1):\n",
    "#     for j in range(0,len(workingPage)):\n",
    "#         differenceX = abs(workingPage[i][2] - workingPage[j][2])\n",
    "#         differenceY = abs(workingPage[i][3] - workingPage[j][3])\n",
    "        \n",
    "#         if differenceX < threshold and differenceY < threshold:\n",
    "#             merge = list(workingPage[i])\n",
    "#             merge[1] += workingPage[i][1]\n",
    "#             workingPage[i] = tuple(merge)\n",
    "#             workingPage.pop(i+1)\n",
    "# workingPage"
   ]
  },
  {
   "cell_type": "code",
   "execution_count": 9,
   "id": "49c0e6b5",
   "metadata": {},
   "outputs": [],
   "source": [
    "from pdfminer.layout import LAParams\n",
    "from pdfminer.converter import PDFResourceManager, PDFPageAggregator\n",
    "from pdfminer.pdfpage import PDFPage\n",
    "from pdfminer.layout import LTTextBoxHorizontal\n",
    "\n",
    "document = open('Test.pdf', 'rb')\n",
    "#Create resource manager\n",
    "rsrcmgr = PDFResourceManager()\n",
    "# Set parameters for analysis.\n",
    "laparams = LAParams()\n",
    "setattr(laparams, 'all_texts', True)\n",
    "# Create a PDF page aggregator object.\n",
    "device = PDFPageAggregator(rsrcmgr, laparams=laparams)\n",
    "interpreter = PDFPageInterpreter(rsrcmgr, device)\n",
    "for page in PDFPage.get_pages(document):\n",
    "    interpreter.process_page(page)\n",
    "    # receive the LTPage object for the page.\n",
    "    layout = device.get_result()\n",
    "    for element in layout:\n",
    "        if isinstance(element, LTTextBoxHorizontal):\n",
    "            print(element.get_text())"
   ]
  },
  {
   "cell_type": "code",
   "execution_count": null,
   "id": "417b0d05",
   "metadata": {},
   "outputs": [],
   "source": [
    "\n"
   ]
  },
  {
   "cell_type": "code",
   "execution_count": null,
   "id": "d3f7157d",
   "metadata": {},
   "outputs": [],
   "source": []
  }
 ],
 "metadata": {
  "kernelspec": {
   "display_name": "Python 3 (ipykernel)",
   "language": "python",
   "name": "python3"
  },
  "language_info": {
   "codemirror_mode": {
    "name": "ipython",
    "version": 3
   },
   "file_extension": ".py",
   "mimetype": "text/x-python",
   "name": "python",
   "nbconvert_exporter": "python",
   "pygments_lexer": "ipython3",
   "version": "3.9.13"
  }
 },
 "nbformat": 4,
 "nbformat_minor": 5
}
